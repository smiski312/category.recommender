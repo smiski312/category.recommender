{
 "cells": [
  {
   "cell_type": "code",
   "execution_count": 18,
   "id": "665852e7-11b8-407d-8af8-55d958266970",
   "metadata": {},
   "outputs": [],
   "source": [
    "import tensorflow as tf \n",
    "from tensorflow.keras.preprocessing.text import Tokenizer\n",
    "from tensorflow.keras.preprocessing.sequence import pad_sequences\n",
    "from sklearn.model_selection import train_test_split\n",
    "import numpy as np \n",
    "import pandas as pd\n",
    "from sklearn.preprocessing import LabelEncoder"
   ]
  },
  {
   "cell_type": "code",
   "execution_count": 3,
   "id": "48c3d806-b519-44de-b544-aa1653c61bfb",
   "metadata": {},
   "outputs": [],
   "source": [
    "texts = [\"This is a great product\", \"I love this item\", \"Not satisfied with the quality\"]\n",
    "categories = [\"Electronics\", \"Clothing\", \"Electronics\"]"
   ]
  },
  {
   "cell_type": "code",
   "execution_count": 33,
   "id": "517b8f4e-cc03-497a-957f-b26dae5591e1",
   "metadata": {},
   "outputs": [],
   "source": [
    "tokenizer = Tokenizer()\n",
    "tokenizer.fit_on_texts(texts)\n",
    "text_sequences = tokenizer.texts_to_sequences(texts)\n",
    "max_sequence_length = max([len(seq) for seq in text_sequences])\n",
    "padded_sequences = pad_sequences(text_sequences, maxlen=max_sequence_length, padding='post')\n",
    "label_encoder = LabelEncoder()\n",
    "encoded_intents = label_encoder.fit_transform(categories)"
   ]
  },
  {
   "cell_type": "code",
   "execution_count": 37,
   "id": "6fc1bc3f-e1b0-4f89-b2a2-0b1474e686b8",
   "metadata": {},
   "outputs": [],
   "source": [
    "padded_sequences = np.array(padded_sequences)\n",
    "encoded_categories = np.array(encoded_categories)"
   ]
  },
  {
   "cell_type": "code",
   "execution_count": 39,
   "id": "9e2e0e47-3533-47d7-9d54-5f689542407e",
   "metadata": {},
   "outputs": [],
   "source": [
    "X_train, X_test, y_train, y_test = train_test_split(padded_sequences, encoded_categories, test_size=0.2, random_state=42)"
   ]
  },
  {
   "cell_type": "code",
   "execution_count": 40,
   "id": "566216eb-0883-41f3-87e6-0cd3da933b5d",
   "metadata": {},
   "outputs": [],
   "source": [
    "input_dim = len(tokenizer.word_index) + 1  # Vocabulary size\n",
    "output_dim = len(label_encoder.classes_)  # Number of unique categories\n",
    "model = tf.keras.Sequential([\n",
    "    tf.keras.layers.Embedding(input_dim, 16, input_length=max_sequence_length),\n",
    "    tf.keras.layers.GlobalAveragePooling1D(),\n",
    "    tf.keras.layers.Dense(16, activation='relu'),\n",
    "    tf.keras.layers.Dense(output_dim, activation='softmax')\n",
    "])\n",
    "model.compile(optimizer='adam', loss='sparse_categorical_crossentropy', metrics=['accuracy'])\n"
   ]
  },
  {
   "cell_type": "code",
   "execution_count": 41,
   "id": "ef6e586f-40dc-4d44-805e-fe391772caec",
   "metadata": {},
   "outputs": [
    {
     "name": "stdout",
     "output_type": "stream",
     "text": [
      "Epoch 1/10\n",
      "\u001b[1m1/1\u001b[0m \u001b[32m━━━━━━━━━━━━━━━━━━━━\u001b[0m\u001b[37m\u001b[0m \u001b[1m2s\u001b[0m 2s/step - accuracy: 0.5000 - loss: 0.6924 - val_accuracy: 1.0000 - val_loss: 0.6823\n",
      "Epoch 2/10\n",
      "\u001b[1m1/1\u001b[0m \u001b[32m━━━━━━━━━━━━━━━━━━━━\u001b[0m\u001b[37m\u001b[0m \u001b[1m0s\u001b[0m 83ms/step - accuracy: 0.5000 - loss: 0.6905 - val_accuracy: 1.0000 - val_loss: 0.6836\n",
      "Epoch 3/10\n",
      "\u001b[1m1/1\u001b[0m \u001b[32m━━━━━━━━━━━━━━━━━━━━\u001b[0m\u001b[37m\u001b[0m \u001b[1m0s\u001b[0m 80ms/step - accuracy: 0.5000 - loss: 0.6881 - val_accuracy: 1.0000 - val_loss: 0.6849\n",
      "Epoch 4/10\n",
      "\u001b[1m1/1\u001b[0m \u001b[32m━━━━━━━━━━━━━━━━━━━━\u001b[0m\u001b[37m\u001b[0m \u001b[1m0s\u001b[0m 83ms/step - accuracy: 0.5000 - loss: 0.6857 - val_accuracy: 1.0000 - val_loss: 0.6863\n",
      "Epoch 5/10\n",
      "\u001b[1m1/1\u001b[0m \u001b[32m━━━━━━━━━━━━━━━━━━━━\u001b[0m\u001b[37m\u001b[0m \u001b[1m0s\u001b[0m 78ms/step - accuracy: 0.5000 - loss: 0.6833 - val_accuracy: 1.0000 - val_loss: 0.6869\n",
      "Epoch 6/10\n",
      "\u001b[1m1/1\u001b[0m \u001b[32m━━━━━━━━━━━━━━━━━━━━\u001b[0m\u001b[37m\u001b[0m \u001b[1m0s\u001b[0m 73ms/step - accuracy: 1.0000 - loss: 0.6810 - val_accuracy: 1.0000 - val_loss: 0.6874\n",
      "Epoch 7/10\n",
      "\u001b[1m1/1\u001b[0m \u001b[32m━━━━━━━━━━━━━━━━━━━━\u001b[0m\u001b[37m\u001b[0m \u001b[1m0s\u001b[0m 81ms/step - accuracy: 1.0000 - loss: 0.6788 - val_accuracy: 1.0000 - val_loss: 0.6879\n",
      "Epoch 8/10\n",
      "\u001b[1m1/1\u001b[0m \u001b[32m━━━━━━━━━━━━━━━━━━━━\u001b[0m\u001b[37m\u001b[0m \u001b[1m0s\u001b[0m 68ms/step - accuracy: 1.0000 - loss: 0.6768 - val_accuracy: 1.0000 - val_loss: 0.6884\n",
      "Epoch 9/10\n",
      "\u001b[1m1/1\u001b[0m \u001b[32m━━━━━━━━━━━━━━━━━━━━\u001b[0m\u001b[37m\u001b[0m \u001b[1m0s\u001b[0m 65ms/step - accuracy: 1.0000 - loss: 0.6746 - val_accuracy: 1.0000 - val_loss: 0.6890\n",
      "Epoch 10/10\n",
      "\u001b[1m1/1\u001b[0m \u001b[32m━━━━━━━━━━━━━━━━━━━━\u001b[0m\u001b[37m\u001b[0m \u001b[1m0s\u001b[0m 63ms/step - accuracy: 1.0000 - loss: 0.6724 - val_accuracy: 1.0000 - val_loss: 0.6897\n"
     ]
    },
    {
     "data": {
      "text/plain": [
       "<keras.src.callbacks.history.History at 0x14da6f482d0>"
      ]
     },
     "execution_count": 41,
     "metadata": {},
     "output_type": "execute_result"
    }
   ],
   "source": [
    "model.fit(X_train, y_train, epochs=10, validation_data=(X_test, y_test))"
   ]
  },
  {
   "cell_type": "code",
   "execution_count": 42,
   "id": "251d609c-8085-4038-8c2d-5b0adcc2b039",
   "metadata": {},
   "outputs": [],
   "source": [
    "def predict_category(text):\n",
    "    sequence = tokenizer.texts_to_sequences([text])\n",
    "    padded_sequence = pad_sequences(sequence, maxlen=max_sequence_length, padding='post')\n",
    "    prediction = model.predict(padded_sequence)\n",
    "    predicted_category_index = np.argmax(prediction)\n",
    "    predicted_category = label_encoder.inverse_transform([predicted_category_index])[0]\n",
    "    return predicted_category"
   ]
  },
  {
   "cell_type": "code",
   "execution_count": 43,
   "id": "e45af02c-7c16-46ba-90cb-a379bd58f407",
   "metadata": {},
   "outputs": [
    {
     "name": "stdout",
     "output_type": "stream",
     "text": [
      "\u001b[1m1/1\u001b[0m \u001b[32m━━━━━━━━━━━━━━━━━━━━\u001b[0m\u001b[37m\u001b[0m \u001b[1m0s\u001b[0m 75ms/step\n",
      "Predicted category: Clothing\n"
     ]
    }
   ],
   "source": [
    "user_input = \"This product works great\"\n",
    "predicted_category = predict_category(user_input)\n",
    "print(\"Predicted category:\", predicted_category)"
   ]
  },
  {
   "cell_type": "code",
   "execution_count": null,
   "id": "605913ac-41b7-4aca-9d89-a1d21143dc67",
   "metadata": {},
   "outputs": [],
   "source": []
  }
 ],
 "metadata": {
  "kernelspec": {
   "display_name": "Python 3 (ipykernel)",
   "language": "python",
   "name": "python3"
  },
  "language_info": {
   "codemirror_mode": {
    "name": "ipython",
    "version": 3
   },
   "file_extension": ".py",
   "mimetype": "text/x-python",
   "name": "python",
   "nbconvert_exporter": "python",
   "pygments_lexer": "ipython3",
   "version": "3.11.0"
  }
 },
 "nbformat": 4,
 "nbformat_minor": 5
}
